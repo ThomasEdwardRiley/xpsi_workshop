{
 "cells": [
  {
   "cell_type": "markdown",
   "metadata": {},
   "source": [
    "# Hot region complexity"
   ]
  },
  {
   "cell_type": "code",
   "execution_count": null,
   "metadata": {},
   "outputs": [],
   "source": [
    "%matplotlib inline\n",
    "\n",
    "from __future__ import print_function, division\n",
    "\n",
    "import os\n",
    "import numpy as np\n",
    "import math\n",
    "\n",
    "from matplotlib import pyplot as plt\n",
    "from matplotlib import rcParams\n",
    "from matplotlib.ticker import MultipleLocator, AutoLocator, AutoMinorLocator\n",
    "from matplotlib import gridspec\n",
    "from matplotlib import cm\n",
    "\n",
    "import xpsi\n",
    "\n",
    "from xpsi.global_imports import _c, _G, _M_s, _dpr, gravradius, _csq, _km, _M_s, _2pi\n",
    "from xpsi.cellmesh.mesh_tools import eval_cedeCentreCoords"
   ]
  },
  {
   "cell_type": "markdown",
   "metadata": {},
   "source": [
    "Let's explore higher-complexity surface hot regions models. First we need to do some setup of the ambient spacetime and the surface embedded in it that the photosphere exists on."
   ]
  },
  {
   "cell_type": "code",
   "execution_count": null,
   "metadata": {},
   "outputs": [],
   "source": [
    "bounds = dict(distance = (0.1, 1.0),                     # (Earth) distance\n",
    "                mass = (1.0, 3.0),                       # mass\n",
    "                radius = (3.0 * gravradius(1.0), 16.0),  # equatorial radius\n",
    "                inclination = (0.001, math.pi/2.0))      # (Earth) inclination to rotation axis\n",
    "\n",
    "spacetime = xpsi.Spacetime(bounds=bounds, values=dict(frequency=300.0))"
   ]
  },
  {
   "cell_type": "markdown",
   "metadata": {},
   "source": [
    "## Single-temperature hot regions"
   ]
  },
  {
   "cell_type": "markdown",
   "metadata": {},
   "source": [
    "First we play with two hot regions that each have a single temperature component, meaning that the local comoving effective temperature is uniform within the hot region boundary. We instantiate hot region objects:"
   ]
  },
  {
   "cell_type": "code",
   "execution_count": null,
   "metadata": {},
   "outputs": [],
   "source": [
    "bounds = dict(super_colatitude = (None, None),\n",
    "              super_radius = (None, None),\n",
    "              phase_shift = (None, None),\n",
    "              super_temperature = (None, None))\n",
    "\n",
    "# a simple circular, simply-connected spot\n",
    "primary = xpsi.HotRegion(bounds=bounds,\n",
    "                            values={}, # no fixed/derived variables\n",
    "                            symmetry=True,\n",
    "                            omit=False,\n",
    "                            cede=False,\n",
    "                            concentric=False,\n",
    "                            sqrt_num_cells=32,\n",
    "                            min_sqrt_num_cells=10,\n",
    "                            max_sqrt_num_cells=64,\n",
    "                            num_leaves=100,\n",
    "                            num_rays=200,\n",
    "                            do_fast=False,\n",
    "                            prefix='p')\n",
    "\n",
    "bounds = dict(super_colatitude=(None,None),\n",
    "              super_radius = (None, None),\n",
    "              phase_shift = (None, None),\n",
    "              super_temperature = (None, None),\n",
    "              omit_colatitude = (None, None),\n",
    "              omit_radius = (None, None),\n",
    "              omit_azimuth = (None, None))\n",
    "\n",
    "# overlap of an omission region and\n",
    "# and a radiating super region\n",
    "secondary = xpsi.HotRegion(bounds=bounds,\n",
    "                              values={}, # no fixed/derived variables\n",
    "                              symmetry=True,\n",
    "                              omit=True,\n",
    "                              cede=False,\n",
    "                              concentric=False,\n",
    "                              sqrt_num_cells=32,\n",
    "                              min_sqrt_num_cells=10,\n",
    "                              max_sqrt_num_cells=100,\n",
    "                              num_leaves=100,\n",
    "                              num_rays=200,\n",
    "                              do_fast=False,\n",
    "                              is_secondary=True,\n",
    "                              prefix='s')\n",
    "\n",
    "from xpsi import HotRegions\n",
    "\n",
    "hot = HotRegions((primary, secondary))"
   ]
  },
  {
   "cell_type": "markdown",
   "metadata": {},
   "source": [
    "Note that the ``{min,max}_sqrt_num_cells`` keyword arguments set the maximum number of elements that the vicinity of a hot region will be discretised into in both colatitude and azimuth."
   ]
  },
  {
   "cell_type": "markdown",
   "metadata": {},
   "source": [
    "Let's also explicitly fill the photosphere *elsewhere* with a simple radiation field. We will return to this later when we integrate over the surface radiation field to calculate signals."
   ]
  },
  {
   "cell_type": "code",
   "execution_count": null,
   "metadata": {},
   "outputs": [],
   "source": [
    "elsewhere = xpsi.Elsewhere()"
   ]
  },
  {
   "cell_type": "code",
   "execution_count": null,
   "metadata": {},
   "outputs": [],
   "source": [
    "photosphere = xpsi.Photosphere(hot = hot, elsewhere = elsewhere, value=spacetime['frequency'])"
   ]
  },
  {
   "cell_type": "code",
   "execution_count": null,
   "metadata": {},
   "outputs": [],
   "source": [
    "star = xpsi.Star(spacetime = spacetime, photospheres = photosphere)"
   ]
  },
  {
   "cell_type": "markdown",
   "metadata": {},
   "source": [
    "We will now define helper functions for plotting mesh representations, together with some plot settings. "
   ]
  },
  {
   "cell_type": "code",
   "execution_count": null,
   "metadata": {},
   "outputs": [],
   "source": [
    "def plot_meshes(lines=(True,True),\n",
    "                primary_ticks = (1,5),\n",
    "                secondary_ticks = (1,5)):\n",
    "    \"\"\" Plot representations of the cached meshes.\n",
    "    \n",
    "    Note that the lowest colatitude row of elements is plotted as the\n",
    "    lowest row, so colatitude increases along the y-axis and azimuth\n",
    "    increaes along the x-axis. This could be considered as spatially\n",
    "    inverted if we were looking at the star whilst being oriented\n",
    "    such that \"up\" is in the spin direction.\n",
    "    \n",
    "    \"\"\"\n",
    "\n",
    "    fig = plt.figure(figsize = (9, 19))\n",
    "\n",
    "    gs = gridspec.GridSpec(2, 2, width_ratios=[50,1], wspace=0.1, hspace=0.1)\n",
    "    ax = plt.subplot(gs[0,0])\n",
    "    veneer(primary_ticks, primary_ticks, ax)\n",
    "\n",
    "    # primary (lower colatitude) hot region\n",
    "    z = hot.objects[0]._HotRegion__cellArea[0]/np.max(hot.objects[0]._HotRegion__cellArea[0])\n",
    "    patches = plt.pcolormesh(z,\n",
    "                             vmin = np.min(z),\n",
    "                             vmax = np.max(z),\n",
    "                             cmap = cm.magma,\n",
    "                             linewidth = 1.0 if lines[0] else 0.0,\n",
    "                             rasterized = True,\n",
    "                             edgecolor='black')\n",
    "\n",
    "    ax = plt.subplot(gs[1,0])\n",
    "    veneer(secondary_ticks, secondary_ticks, ax)\n",
    "\n",
    "    # secondary (higher colatitude) hot region\n",
    "    z = hot.objects[1]._HotRegion__cellArea[0]/np.max(hot.objects[1]._HotRegion__cellArea[0])\n",
    "    _ = plt.pcolormesh(z,\n",
    "                       vmin = np.min(z),\n",
    "                       vmax = np.max(z),\n",
    "                       cmap = cm.magma,\n",
    "                       linewidth = 1.0 if lines[1] else 0.0,\n",
    "                       rasterized = True,\n",
    "                       edgecolor='black')\n",
    "\n",
    "    ax_cb = plt.subplot(gs[:,1])\n",
    "    cb = plt.colorbar(patches,\n",
    "                      cax = ax_cb,\n",
    "                      ticks = MultipleLocator(0.2))\n",
    "\n",
    "    cb.set_label(label = r'cell area (normalised by maximum)', labelpad=25)\n",
    "    cb.solids.set_edgecolor('face')\n",
    "\n",
    "    veneer((None, None), (0.05, None), ax_cb)\n",
    "    cb.outline.set_linewidth(1.0)"
   ]
  },
  {
   "cell_type": "code",
   "execution_count": null,
   "metadata": {},
   "outputs": [],
   "source": [
    "rcParams['text.usetex'] = False\n",
    "rcParams['font.size'] = 14.0\n",
    "\n",
    "def veneer(x, y, axes, lw=1.0, length=8):\n",
    "    \"\"\" Make the plots a little more aesthetically pleasing. \"\"\"\n",
    "    if x is not None:\n",
    "        if x[1] is not None:\n",
    "            axes.xaxis.set_major_locator(MultipleLocator(x[1]))\n",
    "        if x[0] is not None:\n",
    "            axes.xaxis.set_minor_locator(MultipleLocator(x[0]))\n",
    "    else:\n",
    "        axes.xaxis.set_major_locator(AutoLocator())\n",
    "        axes.xaxis.set_minor_locator(AutoMinorLocator())\n",
    "        \n",
    "    if y is not None:\n",
    "        if y[1] is not None:\n",
    "            axes.yaxis.set_major_locator(MultipleLocator(y[1]))\n",
    "        if y[0] is not None:\n",
    "            axes.yaxis.set_minor_locator(MultipleLocator(y[0]))\n",
    "    else:\n",
    "        axes.yaxis.set_major_locator(AutoLocator())\n",
    "        axes.yaxis.set_minor_locator(AutoMinorLocator())\n",
    "        \n",
    "    axes.tick_params(which='major', colors='black', length=length, width=lw)\n",
    "    axes.tick_params(which='minor', colors='black', length=int(length/2), width=lw)\n",
    "    plt.setp(axes.spines.values(), linewidth=lw, color='black')"
   ]
  },
  {
   "cell_type": "markdown",
   "metadata": {},
   "source": [
    "Let's form a vector of parameter values in the *conventional* order expected by the ``Star`` instance and the other objects it encapsulates references to."
   ]
  },
  {
   "cell_type": "code",
   "execution_count": null,
   "metadata": {},
   "outputs": [],
   "source": [
    "def set_defaults():\n",
    "    global star # for clarity\n",
    "    # (Earth) distance\n",
    "    star['distance'] = 0.329 \n",
    "    # gravitational mass\n",
    "    star['mass'] = 1.4\n",
    "    # coordinate equatorial radius\n",
    "    star['radius'] = 13.18\n",
    "    # (Earth) inclination to rotation axis\n",
    "    star['inclination'] = 1.0\n",
    "    # primary hot region (spot) centre colatitude\n",
    "    star['p__super_colatitude'] = 2.19\n",
    "    # primary spot angular radius\n",
    "    star['p__super_radius'] = 0.0792\n",
    "    # primary spot effective temperature\n",
    "    star['p__super_temperature'] = 6.11\n",
    "    # secondary hot region superseding member (SM) centre colatitude\n",
    "    star['s__super_colatitude'] = math.pi/2.0\n",
    "    # secondary hot region superseding member angular radius\n",
    "    star['s__super_radius'] = 0.32                \n",
    "    # secondary hot region omission centre colatitude\n",
    "    star['s__omit_colatitude'] = math.pi/2.0\n",
    "    # secondary hot region omission angular radius\n",
    "    star['s__omit_radius'] = 0.25\n",
    "    # secondary hot region omission centre relative azimuth \n",
    "    star['s__omit_azimuth'] = 0.0\n",
    "    # secondary hot region effective temperature\n",
    "    star['s__super_temperature'] = 6.12\n",
    "    # elsewhere effective temperature\n",
    "    star['elsewhere_temperature'] = 5.6\n",
    "    \n",
    "set_defaults()"
   ]
  },
  {
   "cell_type": "markdown",
   "metadata": {},
   "source": [
    "We now prepare the star for pulse integration. In statistical contexts the likelihood function places this call automatically. The preparation involves embedding hot region objects into the photosphere (that also radiates elsewhere), by constructing element (or cell) meshes and precomputing ray mapping information for image integration. We place a call to our helper function to plot the meshes constructed: the mesh for the primary hot region is rendered in the topmost panel, with colour representing the proper area covered by the hot region within a given element. This area weights the pulse generated by an infinitesimal radiating element located at the proper-area-weighted centre of the element. The mesh associated with the secondary hot region is rendered in the bottommost panel."
   ]
  },
  {
   "cell_type": "code",
   "execution_count": null,
   "metadata": {},
   "outputs": [],
   "source": [
    "star.update()\n",
    "\n",
    "plot_meshes()"
   ]
  },
  {
   "cell_type": "markdown",
   "metadata": {},
   "source": [
    "We have a ring for secondary hot region. The hole would be automatically filled with the radiation field *elsewhere*, which might, e.g., be much cooler."
   ]
  },
  {
   "cell_type": "code",
   "execution_count": null,
   "metadata": {},
   "outputs": [],
   "source": [
    "star['p__super_radius'] = 0.25   # increase the primary spot angular radius\n",
    "star['s__omit_radius'] = 0.31    # increase the angular radius of the omission region\n",
    "star['s__omit_azimuth'] = -0.02  # introduce a finite azimuthal omission offset\n",
    "\n",
    "star.update()\n",
    "\n",
    "plot_meshes()"
   ]
  },
  {
   "cell_type": "markdown",
   "metadata": {},
   "source": [
    "We have a crescent that is symmetric about the equator. A way to think about this configuration is to consider the omission region as a a superseding member that supersedes a ceding member with the *elsewhere* radiation field."
   ]
  },
  {
   "cell_type": "markdown",
   "metadata": {},
   "source": [
    "Given that the superseding member is not a topological hole, the resulting crescent has *terminal points* or *horns*. As one approaches the horns around the crescent, the cell areas approach zero, and the two cells containing the two terminal points, and the adjacent cells cannot be resolved in colour from the cells that have zero coverage of the hot region. We can pick out these cells at the horns by setting a uniform colour for cells of finite area:"
   ]
  },
  {
   "cell_type": "code",
   "execution_count": null,
   "metadata": {},
   "outputs": [],
   "source": [
    "h = hot.objects[1]\n",
    "\n",
    "# in the source code, there is always a radiating \"super\" region\n",
    "# even if there is an omission region, it is equivalent to a\n",
    "# non-radiating superseding member relative to a \"super\" region\n",
    "# that is really a ceding member\n",
    "h._super_cellArea[h._super_cellArea > 0.0] = 1.0\n",
    "\n",
    "plot_meshes()"
   ]
  },
  {
   "cell_type": "markdown",
   "metadata": {},
   "source": [
    "We can now see all cells with finite hot region coverage, and the symmetry is perhaps clearer."
   ]
  },
  {
   "cell_type": "code",
   "execution_count": null,
   "metadata": {},
   "outputs": [],
   "source": [
    "star['p__super_colatitude'] = 2.9     # increase the colatitude of the primary spot centre\n",
    "star['p__super_radius'] = 0.3         # increase the angular radius of the primary spot\n",
    "star['s__super_colatitude'] = 2.72    # this is not equal\n",
    "star['s__omit_colatitude'] = 2.75     # to this any more\n",
    "star['s__omit_radius'] = 0.284        #\n",
    "star['s__omit_azimuth'] = -0.0483     # increase the magnitude of omission azimuthal offset\n",
    "\n",
    "star.update()\n",
    "\n",
    "plot_meshes()"
   ]
  },
  {
   "cell_type": "markdown",
   "metadata": {},
   "source": [
    "Note that a fundamental property of the topmost mesh has now changed: the boundary in azimuth is periodic because the spot encompasses a pole (the southern rotational pole), whilst the lower boundary in colatitude is actually a coordinate singularity. The boundary in azimuth for the bottommost mesh is *not* periodic. The omission region is close enough to being a topological hole that we cannot distinguish whether or not it is from the mesh, and we would need to calulate the sum of the angular radius of the hole with the angular separation between the centres."
   ]
  },
  {
   "cell_type": "code",
   "execution_count": null,
   "metadata": {},
   "outputs": [],
   "source": [
    "# changes:\n",
    "# reflect primary spot w.r.t equator\n",
    "# increase SM centre colatitude\n",
    "# increase omission centre colatitude\n",
    "# increase the omission region angular radius\n",
    "# positive omission offset\n",
    "\n",
    "star['p__super_colatitude'] = math.pi - 2.9                 \n",
    "star['s__super_colatitude'] = 2.87                           \n",
    "star['s__omit_colatitude'] = star['s__super_colatitude']     \n",
    "star['s__omit_radius'] = 0.3                                 \n",
    "star['s__omit_azimuth'] *= -1.0\n",
    "\n",
    "star.update()\n",
    "\n",
    "plot_meshes()"
   ]
  },
  {
   "cell_type": "markdown",
   "metadata": {},
   "source": [
    "Note that although the primary spot was reflected about the equator, and now encompasses the northern rotation pole, the mesh does not look as though it has been reflected. Under the hood, the mesh for the primary spot encompassing the southern rotational pole is constructed as reflection about the equator, and then the mesh of colatitudes, which is not plotted but has the same shape as the mesh of proper areas (plotted), is transformed via $\\theta\\mapsto\\pi-\\theta$, leaving other reflection-symmetric properties intact. "
   ]
  },
  {
   "cell_type": "markdown",
   "metadata": {},
   "source": [
    "The mesh for the secondary hot region has now joined that of the primary in having a periodic boundary in azimuth. Note that the hole also encompasses the southern rotational pole."
   ]
  },
  {
   "cell_type": "code",
   "execution_count": null,
   "metadata": {},
   "outputs": [],
   "source": [
    "# changes:\n",
    "# move primary spot centre almost to south pole\n",
    "# move secondary hot region to encompass north pole\n",
    "# decrease the angular radius of the omission region\n",
    "# increase magnitude of omission region azimuthal offset\n",
    "\n",
    "star['p__super_colatitude'] = math.pi - 0.01   \n",
    "star['s__super_colatitude'] = 0.27            \n",
    "star['s__super_radius'] = 0.32\n",
    "star['s__omit_colatitude'] = 0.275\n",
    "star['s__omit_radius'] = 0.2             \n",
    "star['s__omit_azimuth'] = -0.1               \n",
    "\n",
    "star.update()\n",
    "\n",
    "plot_meshes()"
   ]
  },
  {
   "cell_type": "markdown",
   "metadata": {},
   "source": [
    "The primary spot centre is now almost coincident with a pole, with the angular separation between pole and centre much smaller than the angular radius of the spot. Meanwhile, the omission member of the secondary hot region is a hole, but does not encompass a pole, whilst the outer boundary of the resulting ring *does*."
   ]
  },
  {
   "cell_type": "markdown",
   "metadata": {},
   "source": [
    "Let's increase the resolution for one of the examples above to some ridiculous level that is not even accurately rendered:"
   ]
  },
  {
   "cell_type": "code",
   "execution_count": null,
   "metadata": {
    "scrolled": false
   },
   "outputs": [],
   "source": [
    "star['p__super_colatitude'] = math.pi - 2.9\n",
    "star['p__super_radius'] = 0.3\n",
    "star['s__super_colatitude'] = 2.87\n",
    "star['s__super_radius'] = 0.32\n",
    "star['s__omit_colatitude'] = star['s__super_colatitude']\n",
    "star['s__omit_radius'] = 0.3\n",
    "star['s__omit_azimuth'] = 0.0483   \n",
    "\n",
    "h = hot.objects[1]\n",
    "\n",
    "h.set_num_cells(sqrt_num_cells=1000, max_sqrt_num_cells=10000)\n",
    "\n",
    "star.update()\n",
    "\n",
    "plot_meshes(lines=(True, False), secondary_ticks=None)"
   ]
  },
  {
   "cell_type": "markdown",
   "metadata": {},
   "source": [
    "There are other parametrisations that are useful to consider that might be more natural for prior implementation. The helper function below is an example."
   ]
  },
  {
   "cell_type": "code",
   "execution_count": null,
   "metadata": {},
   "outputs": [],
   "source": [
    "def transform(p):\n",
    "    \"\"\" Transform a parameter vector from a useful space to another.\n",
    "    \n",
    "    Specifically, the input vector ``p`` is constituted by:\n",
    "    \n",
    "        * the fractional angular offset between the centres of superseding and ceding members\n",
    "        * the azimuthal offset of the ceding member about the centre of the superseding member\n",
    "        \n",
    "    An omission member is a non-radiating superseding region that *might* be a topological hole\n",
    "    in the ceding member region.\n",
    "        \n",
    "    \"\"\"\n",
    "    global star # for clarity\n",
    "    \n",
    "    if star['s__omit_radius'] <= star['s__super_radius']:\n",
    "        t1 = p[0] * (star['s__omit_radius'] + star['s__super_radius'])\n",
    "    else:\n",
    "        t1 = star['s__omit_radius'] - star['s__super_radius']\n",
    "        t1 += 2.0*p[0]*star['s__super_radius']\n",
    "\n",
    "    star['s__super_colatitude'], star['s__omit_azimuth'] \\\n",
    "            = eval_cedeCentreCoords(star['s__omit_colatitude'], t1, p[1])\n",
    "\n",
    "    star['s__omit_azimuth'] *= -1.0\n",
    "\n",
    "    return p"
   ]
  },
  {
   "cell_type": "markdown",
   "metadata": {},
   "source": [
    "Let's try to recreate (approximately, although it can of course be done exactly by inverting the transformation) the crescent above that is symmetric with respect to the equator."
   ]
  },
  {
   "cell_type": "code",
   "execution_count": null,
   "metadata": {
    "scrolled": false
   },
   "outputs": [],
   "source": [
    "set_defaults()                            # defaults\n",
    "star['p__super_radius'] = 0.25            # increase the primary spot angular radius\n",
    "star['s__omit_radius'] = 0.31             # increase the angular radius of the omission region\n",
    "star['s__omit_colatitude'] = math.pi/2.0\n",
    "\n",
    "p = [0.05, math.pi/2.0]\n",
    "\n",
    "transform(p)\n",
    "       \n",
    "h.set_num_cells(sqrt_num_cells=32, max_sqrt_num_cells=100)\n",
    "\n",
    "star.update()\n",
    "\n",
    "# make sure all elements with finite coverage are discernable\n",
    "h = hot.objects[1]\n",
    "\n",
    "# in the source code, there is always a radiating \"super\" region\n",
    "# even if the omission region is equivalent to a non-radiating\n",
    "# superseding member and the \"super\" region is then really a\n",
    "# ceding member\n",
    "h._super_cellArea[h._super_cellArea > 0.0] = 1.0\n",
    "\n",
    "plot_meshes()"
   ]
  },
  {
   "cell_type": "markdown",
   "metadata": {},
   "source": [
    "## Pulse integration"
   ]
  },
  {
   "cell_type": "markdown",
   "metadata": {},
   "source": [
    "Let's compute some pulses. First we need a helper function."
   ]
  },
  {
   "cell_type": "code",
   "execution_count": null,
   "metadata": {},
   "outputs": [],
   "source": [
    "from xpsi.tools import phase_interpolator\n",
    "\n",
    "def plot_2D_pulse(z, x, shift, y, ylabel, num_rotations=5.0, res=5000, cm=cm.viridis):\n",
    "    \"\"\" Helper function to plot a phase-energy pulse.\n",
    "    \n",
    "    :param array-like z:\n",
    "        A pair of *ndarray[m,n]* objects representing the signal at\n",
    "        *n* phases and *m* values of an energy variable.\n",
    "        \n",
    "    :param ndarray[n] x: Phases the signal is resolved at.\n",
    "        \n",
    "    :param tuple shift: Hot region phase parameters.\n",
    "    \n",
    "    :param ndarray[m] x: Energy values the signal is resolved at.\n",
    "    \n",
    "    \"\"\"\n",
    "    \n",
    "    fig = plt.figure(figsize = (12,6))\n",
    "\n",
    "    gs = gridspec.GridSpec(1, 2, width_ratios=[50,1], wspace=0.025)\n",
    "    ax = plt.subplot(gs[0])\n",
    "    ax_cb = plt.subplot(gs[1])\n",
    "\n",
    "    new_phases = np.linspace(0.0, num_rotations, res)\n",
    "\n",
    "    interpolated = phase_interpolator.interpolate_pulse(new_phases,\n",
    "                                                        x,\n",
    "                                                        z[0], shift[0])\n",
    "    interpolated += phase_interpolator.interpolate_pulse(new_phases,\n",
    "                                                         x,\n",
    "                                                         z[1], shift[1])\n",
    "\n",
    "    profile = ax.pcolormesh(new_phases,\n",
    "                             y,\n",
    "                             interpolated/np.max(interpolated),\n",
    "                             cmap = cm,\n",
    "                             linewidth = 0,\n",
    "                             rasterized = True)\n",
    "\n",
    "    profile.set_edgecolor('face')\n",
    "\n",
    "    ax.set_xlim([0.0, 5.0])\n",
    "    ax.set_yscale('log')\n",
    "    ax.set_ylabel(ylabel)\n",
    "    ax.set_xlabel(r'Phase')\n",
    "    veneer((0.1, 0.5), (None,None), ax)\n",
    "\n",
    "    cb = plt.colorbar(profile,\n",
    "                      cax = ax_cb,\n",
    "                      ticks = MultipleLocator(0.2))\n",
    "\n",
    "    cb.set_label(label=r'Signal (normalised by maximum)', labelpad=25)\n",
    "    cb.solids.set_edgecolor('face')\n",
    "\n",
    "    veneer((None, None), (0.05, None), ax_cb)\n",
    "    cb.outline.set_linewidth(1.0)"
   ]
  },
  {
   "cell_type": "markdown",
   "metadata": {},
   "source": [
    "First we will make a configuration that resembles the first configuration in the **Modelling** notebook tutorial."
   ]
  },
  {
   "cell_type": "code",
   "execution_count": null,
   "metadata": {},
   "outputs": [],
   "source": [
    "star['distance'] = 0.2\n",
    "star['mass'] = 1.4\n",
    "star['radius'] = 12.5\n",
    "star['inclination'] = 1.0\n",
    "star['p__super_colatitude'] = 1.0\n",
    "star['p__super_radius'] = 0.075\n",
    "star['p__super_temperature'] = 6.2\n",
    "star['s__super_colatitude'] = math.pi - 1.0\n",
    "star['s__super_radius'] = 0.2\n",
    "star['s__omit_colatitude'] = math.pi - 1.0\n",
    "star['s__omit_radius'] = 0.02               # make this smol\n",
    "star['s__omit_azimuth'] = 0.0\n",
    "star['s__super_temperature'] = 6.0\n",
    "star['elsewhere_temperature'] = 3.0         # turn off\n",
    "\n",
    "star.update()"
   ]
  },
  {
   "cell_type": "markdown",
   "metadata": {},
   "source": [
    "Let's compute the incident specific flux signal, in units of photons/cm$^{2}$/s/keV output as by the source code, and then normalise it to the maximum specific flux:"
   ]
  },
  {
   "cell_type": "code",
   "execution_count": null,
   "metadata": {},
   "outputs": [],
   "source": [
    "energies = np.logspace(-2.0, np.log10(3.0), 1000, base=10.0)"
   ]
  },
  {
   "cell_type": "code",
   "execution_count": null,
   "metadata": {},
   "outputs": [],
   "source": [
    "photosphere.integrate(energies=energies, threads=1)\n",
    "\n",
    "plot_2D_pulse((photosphere.pulse[0][0], photosphere.pulse[1][0]),\n",
    "              x=hot.phases_in_cycles[0],\n",
    "              shift=np.array([0.0,0.025]),\n",
    "              y=energies,\n",
    "              ylabel=r'Energy (keV)')\n",
    "\n",
    "plot_meshes()"
   ]
  },
  {
   "cell_type": "code",
   "execution_count": null,
   "metadata": {},
   "outputs": [],
   "source": [
    "star['elsewhere_temperature'] = 5.0 # sshhhuuuummmmm\n",
    "\n",
    "star.update()\n",
    "\n",
    "photosphere.integrate(energies=energies, threads=1)\n",
    "\n",
    "plot_2D_pulse((photosphere.pulse[0][0], photosphere.pulse[1][0]),\n",
    "              x=hot.phases_in_cycles[0],\n",
    "              shift=np.array([0.0,0.025]),\n",
    "              y=energies,\n",
    "              ylabel=r'Energy (keV)')"
   ]
  },
  {
   "cell_type": "code",
   "execution_count": null,
   "metadata": {},
   "outputs": [],
   "source": [
    "star['s__omit_radius'] = 0.95 * star['s__super_radius'] # not so small\n",
    "star['s__super_temperature'] = 6.4                      # but brighter\n",
    "star['elsewhere_temperature'] = 4.85                    # not so bright\n",
    "\n",
    "p = [0.025, math.pi/2.0]\n",
    "\n",
    "transform(p)\n",
    "\n",
    "star.update(threads=4)\n",
    "\n",
    "photosphere.integrate(energies=energies, threads=4)\n",
    "\n",
    "plot_2D_pulse((photosphere.pulse[0][0], photosphere.pulse[1][0]),\n",
    "              x=hot.phases_in_cycles[0],\n",
    "              shift=np.array([0.0, 0.0]), # zero shift\n",
    "              y=energies,\n",
    "              ylabel=r'Energy (keV)')\n",
    "\n",
    "plot_meshes()"
   ]
  },
  {
   "cell_type": "markdown",
   "metadata": {},
   "source": [
    "## Two-temperature hot regions"
   ]
  },
  {
   "cell_type": "markdown",
   "metadata": {},
   "source": [
    "Now we play with two hot regions which each have two temperature components. First we need to do the usual type of setup:"
   ]
  },
  {
   "cell_type": "code",
   "execution_count": null,
   "metadata": {
    "scrolled": false
   },
   "outputs": [],
   "source": [
    "bounds = dict(super_colatitude=(None,None),\n",
    "              super_radius = (None, None),\n",
    "              phase_shift = (None, None),\n",
    "              super_temperature = (None, None),\n",
    "              cede_colatitude = (None, None),\n",
    "              cede_radius = (None, None),\n",
    "              cede_azimuth = (None, None),\n",
    "              cede_temperature = (None, None))\n",
    "\n",
    "\n",
    "# overlap of a radiating superseding member region\n",
    "# and a radiating ceding member region\n",
    "primary = xpsi.HotRegion(bounds=bounds,\n",
    "                            values={}, # no fixed/derived variables\n",
    "                            symmetry=True,\n",
    "                            omit=False,\n",
    "                            cede=True,\n",
    "                            concentric=False,\n",
    "                            sqrt_num_cells=32,\n",
    "                            min_sqrt_num_cells=10,\n",
    "                            max_sqrt_num_cells=64,\n",
    "                            num_leaves=100,\n",
    "                            num_rays=200,\n",
    "                            do_fast=False,\n",
    "                            prefix='p')\n",
    "\n",
    "\n",
    "# also an overlap of a radiating superseding member\n",
    "# region and a radiating ceding member region\n",
    "bounds = dict(super_colatitude=(None,None),\n",
    "              super_radius = (None, None),\n",
    "              phase_shift = (None, None),\n",
    "              super_temperature = (None, None),\n",
    "              cede_colatitude = (None, None),\n",
    "              cede_radius = (None, None),\n",
    "              cede_azimuth = (None, None),\n",
    "              cede_temperature = (None, None))\n",
    "\n",
    "secondary = xpsi.HotRegion(bounds=bounds,\n",
    "                              values={}, # no fixed/derived variables\n",
    "                              symmetry=True,\n",
    "                              omit=False,\n",
    "                              cede=True,\n",
    "                              concentric=False,\n",
    "                              sqrt_num_cells=32,\n",
    "                              min_sqrt_num_cells=10,\n",
    "                              max_sqrt_num_cells=100,\n",
    "                              num_leaves=100,\n",
    "                              num_rays=200,\n",
    "                              do_fast=False,\n",
    "                              is_secondary=True,\n",
    "                              prefix='s')\n",
    "\n",
    "from xpsi import HotRegions\n",
    "\n",
    "hot = HotRegions((primary, secondary))"
   ]
  },
  {
   "cell_type": "code",
   "execution_count": null,
   "metadata": {},
   "outputs": [],
   "source": [
    "elsewhere = xpsi.Elsewhere()"
   ]
  },
  {
   "cell_type": "code",
   "execution_count": null,
   "metadata": {},
   "outputs": [],
   "source": [
    "photosphere = xpsi.Photosphere(hot = hot, elsewhere = elsewhere, value=spacetime['frequency'])"
   ]
  },
  {
   "cell_type": "code",
   "execution_count": null,
   "metadata": {},
   "outputs": [],
   "source": [
    "star = xpsi.Star(spacetime = spacetime, photospheres = photosphere)"
   ]
  },
  {
   "cell_type": "markdown",
   "metadata": {},
   "source": [
    "Let's define a different helper function for plotting the meshes:"
   ]
  },
  {
   "cell_type": "code",
   "execution_count": null,
   "metadata": {},
   "outputs": [],
   "source": [
    "def plot_meshes(lines=(True,True),\n",
    "                primary_ticks = (1,5),\n",
    "                secondary_ticks = (1,5)):\n",
    "    \"\"\" Plot representations of the cached meshes.\n",
    "    \n",
    "    Note that the lowest colatitude row of elements is plotted as the\n",
    "    lowest row, so colatitude increases along the y-axis and azimuth\n",
    "    increaes along the x-axis. This could be considered as spatially\n",
    "    inverted if we were looking at the star whilst being oriented\n",
    "    such that \"up\" is in the spin direction.\n",
    "    \n",
    "    \"\"\"\n",
    "\n",
    "    fig = plt.figure(figsize = (10, 10))\n",
    "\n",
    "    gs = gridspec.GridSpec(2, 3, width_ratios=[50,50, 1], wspace=0.25, hspace=0.15)\n",
    "    ax = plt.subplot(gs[0,0])\n",
    "    veneer(primary_ticks, primary_ticks, ax)\n",
    "\n",
    "    # primary (lower colatitude) superseding\n",
    "    z = hot.objects[0]._HotRegion__cellArea[0]/np.max(hot.objects[0]._HotRegion__cellArea[0])\n",
    "    patches = plt.pcolormesh(z,\n",
    "                             vmin = np.min(z),\n",
    "                             vmax = np.max(z),\n",
    "                             cmap = cm.magma,\n",
    "                             linewidth = 1.0 if lines[0] else 0.0,\n",
    "                             rasterized = True,\n",
    "                             edgecolor='black')\n",
    "\n",
    "    ax = plt.subplot(gs[1,0])\n",
    "    veneer(secondary_ticks, secondary_ticks, ax)\n",
    "\n",
    "    # primary ceding\n",
    "    z = hot.objects[0]._HotRegion__cellArea[1]/np.max(hot.objects[0]._HotRegion__cellArea[1])\n",
    "    _ = plt.pcolormesh(z,\n",
    "                       vmin = np.min(z),\n",
    "                       vmax = np.max(z),\n",
    "                       cmap = cm.magma,\n",
    "                       linewidth = 1.0 if lines[1] else 0.0,\n",
    "                       rasterized = True,\n",
    "                       edgecolor='black')\n",
    "    \n",
    "    ax = plt.subplot(gs[0,1])\n",
    "    veneer(primary_ticks, primary_ticks, ax)\n",
    "\n",
    "    # secondary superseding\n",
    "    z = hot.objects[1]._HotRegion__cellArea[0]/np.max(hot.objects[1]._HotRegion__cellArea[0])\n",
    "    patches = plt.pcolormesh(z,\n",
    "                             vmin = np.min(z),\n",
    "                             vmax = np.max(z),\n",
    "                             cmap = cm.magma,\n",
    "                             linewidth = 1.0 if lines[0] else 0.0,\n",
    "                             rasterized = True,\n",
    "                             edgecolor='black')\n",
    "\n",
    "    ax = plt.subplot(gs[1,1])\n",
    "    veneer(secondary_ticks, secondary_ticks, ax)\n",
    "\n",
    "    # secondary ceding\n",
    "    z = hot.objects[1]._HotRegion__cellArea[1]/np.max(hot.objects[1]._HotRegion__cellArea[1])\n",
    "    _ = plt.pcolormesh(z,\n",
    "                       vmin = np.min(z),\n",
    "                       vmax = np.max(z),\n",
    "                       cmap = cm.magma,\n",
    "                       linewidth = 1.0 if lines[1] else 0.0,\n",
    "                       rasterized = True,\n",
    "                       edgecolor='black')\n",
    "\n",
    "    ax_cb = plt.subplot(gs[:,2])\n",
    "    cb = plt.colorbar(patches,\n",
    "                      cax = ax_cb,\n",
    "                      ticks = MultipleLocator(0.2))\n",
    "\n",
    "    cb.set_label(label = r'cell area (normalised by maximum)', labelpad=25)\n",
    "    cb.solids.set_edgecolor('face')\n",
    "\n",
    "    veneer((None, None), (0.05, None), ax_cb)\n",
    "    cb.outline.set_linewidth(1.0)"
   ]
  },
  {
   "cell_type": "code",
   "execution_count": null,
   "metadata": {},
   "outputs": [],
   "source": [
    "def set_defaults():\n",
    "    \"\"\" Default configuration is antipodally reflection symmetric. \"\"\"\n",
    "    # (Earth) distance\n",
    "    star['distance'] = 0.329 \n",
    "    # gravitational mass\n",
    "    star['mass'] = 1.4\n",
    "    # coordinate equatorial radius\n",
    "    star['radius'] = 13.18\n",
    "    # (Earth) inclination to rotation axis\n",
    "    star['inclination'] = 1.0\n",
    "    \n",
    "    # primary super colatitude\n",
    "    star['p__super_colatitude'] = math.pi/2.0\n",
    "    # primary super angular radius\n",
    "    star['p__super_radius'] = 0.25               \n",
    "    # primary cede colatitude\n",
    "    star['p__cede_colatitude'] = math.pi/2.0\n",
    "    # primary cede angular radius\n",
    "    star['p__cede_radius'] = 0.32\n",
    "    # primary cede azimuthal offset \n",
    "    star['p__cede_azimuth'] = 0.0\n",
    "    # primary super temp\n",
    "    star['p__super_temperature'] = 6.12\n",
    "    # primary cede temp\n",
    "    star['p__cede_temperature'] = 6.0\n",
    "    \n",
    "    # secondary super colatitude\n",
    "    star['s__super_colatitude'] = math.pi/2.0\n",
    "    # secondary super angular radius\n",
    "    star['s__super_radius'] = 0.25                \n",
    "    # secondary cede colatitude\n",
    "    star['s__cede_colatitude'] = math.pi/2.0\n",
    "    # secondary cede angular radius\n",
    "    star['s__cede_radius'] = 0.32\n",
    "    # secondary cede azimuthal offset \n",
    "    star['s__cede_azimuth'] = 0.0\n",
    "    # secondary super temp\n",
    "    star['s__super_temperature'] = 6.12\n",
    "    # secondary cede temp\n",
    "    star['s__cede_temperature'] = 6.0\n",
    "    \n",
    "    # elsewhere effective temperature\n",
    "    star['elsewhere_temperature'] = 5.0\n",
    "    \n",
    "set_defaults()"
   ]
  },
  {
   "cell_type": "code",
   "execution_count": null,
   "metadata": {},
   "outputs": [],
   "source": [
    "star.update()\n",
    "\n",
    "plot_meshes()"
   ]
  },
  {
   "cell_type": "markdown",
   "metadata": {},
   "source": [
    "The leftmost panels are the meshes associated with the primary hot region, whilst the rightmost panels are the meshes associated with the secondary hot region. The topmost panels are the meshes associated with the superseding members, whilst the bottommost panels are the meshes associated with the ceding members."
   ]
  },
  {
   "cell_type": "markdown",
   "metadata": {},
   "source": [
    "Let's play with the hot regions:"
   ]
  },
  {
   "cell_type": "code",
   "execution_count": null,
   "metadata": {},
   "outputs": [],
   "source": [
    "star['p__cede_azimuth'] = -0.04\n",
    "star['s__cede_azimuth'] = 0.04\n",
    "\n",
    "star['p__super_radius'] = star['s__super_radius'] = 0.9*star['s__cede_radius']\n",
    "\n",
    "star.update()\n",
    "\n",
    "plot_meshes()"
   ]
  },
  {
   "cell_type": "markdown",
   "metadata": {},
   "source": [
    "Let's move them to opposite poles:"
   ]
  },
  {
   "cell_type": "code",
   "execution_count": null,
   "metadata": {},
   "outputs": [],
   "source": [
    "star['p__super_colatitude'] = star['p__cede_colatitude'] = math.pi - 0.2\n",
    "\n",
    "star['s__cede_colatitude'] = star['s__super_colatitude'] = 0.2\n",
    "\n",
    "star['p__cede_azimuth'] = 1.0\n",
    "star['s__cede_azimuth'] = -1.0\n",
    "\n",
    "star.update()\n",
    "\n",
    "plot_meshes()"
   ]
  },
  {
   "cell_type": "markdown",
   "metadata": {},
   "source": [
    "Let's move them so that they do not encompass the poles and the meshes are inverted:"
   ]
  },
  {
   "cell_type": "code",
   "execution_count": null,
   "metadata": {},
   "outputs": [],
   "source": [
    "star['p__super_colatitude'] = star['p__cede_colatitude'] = 1.0\n",
    "\n",
    "star['s__cede_colatitude'] = star['s__super_colatitude'] = math.pi - 1.0\n",
    "\n",
    "star['p__cede_azimuth'] = 0.04\n",
    "star['s__cede_azimuth']  = -0.05\n",
    "\n",
    "star['p__cede_radius']  = star['s__cede_radius'] = 0.15\n",
    "star['p__super_radius'] = star['s__super_radius'] = 0.8*star['s__cede_radius']\n",
    "\n",
    "star.update()\n",
    "\n",
    "plot_meshes()"
   ]
  },
  {
   "cell_type": "markdown",
   "metadata": {},
   "source": [
    "Finally, let's integrate a pulse:"
   ]
  },
  {
   "cell_type": "code",
   "execution_count": null,
   "metadata": {},
   "outputs": [],
   "source": [
    "energies = np.logspace(-2.0, np.log10(3.0), 1000, base=10.0)"
   ]
  },
  {
   "cell_type": "code",
   "execution_count": null,
   "metadata": {},
   "outputs": [],
   "source": [
    "star['elsewhere_temperature'] = 5.0\n",
    "\n",
    "star.update()\n",
    "\n",
    "photosphere.integrate(energies=energies, threads=4)\n",
    "\n",
    "plot_2D_pulse((photosphere.pulse[0][0] + photosphere.pulse[0][1],\n",
    "               photosphere.pulse[1][0] + photosphere.pulse[1][1]),\n",
    "              x=hot.phases_in_cycles[0],\n",
    "              shift=np.array([0.0,0.0]),\n",
    "              y=energies,\n",
    "              ylabel=r'Energy (keV)')"
   ]
  },
  {
   "cell_type": "markdown",
   "metadata": {},
   "source": [
    "Let's have a play with the temperatures, so show that the signal from *elsewhere* is affected by the now *cool* localised regions."
   ]
  },
  {
   "cell_type": "code",
   "execution_count": null,
   "metadata": {},
   "outputs": [],
   "source": [
    "star['elsewhere_temperature'] = 6.2\n",
    "\n",
    "star['p__super_temperature'] = star['p__cede_temperature'] \\\n",
    "    = star['s__super_temperature'] = star['s__cede_temperature'] = 3.0\n",
    "\n",
    "star['p__super_colatitude'] = star['p__cede_colatitude'] = math.pi/2.0\n",
    "\n",
    "star['s__cede_colatitude'] = star['s__super_colatitude'] = math.pi/2.0\n",
    "\n",
    "star['p__cede_radius'] = star['s__cede_radius'] = 1.0\n",
    "star['p__super_radius'] = star['s__super_radius'] = 0.8*star['s__cede_radius']\n",
    "\n",
    "star.update()\n",
    "\n",
    "plot_meshes()\n",
    "\n",
    "photosphere.integrate(energies=energies, threads=4)\n",
    "\n",
    "plot_2D_pulse((photosphere.pulse[0][0] + photosphere.pulse[0][1],\n",
    "               photosphere.pulse[1][0] + photosphere.pulse[1][1]),\n",
    "              x=hot.phases_in_cycles[0],\n",
    "              shift=np.array([0.0,0.0]),\n",
    "              y=energies,\n",
    "              ylabel=r'Energy (keV)')"
   ]
  },
  {
   "cell_type": "markdown",
   "metadata": {},
   "source": [
    "Notice the phase shift relative to the previous pulse plot? The local maxima now are shifted by $\\sim\\!0.25$ cycles."
   ]
  }
 ],
 "metadata": {
  "kernelspec": {
   "display_name": "Python 2",
   "language": "python",
   "name": "python2"
  },
  "language_info": {
   "codemirror_mode": {
    "name": "ipython",
    "version": 2
   },
   "file_extension": ".py",
   "mimetype": "text/x-python",
   "name": "python",
   "nbconvert_exporter": "python",
   "pygments_lexer": "ipython2",
   "version": "2.7.13"
  }
 },
 "nbformat": 4,
 "nbformat_minor": 1
}
